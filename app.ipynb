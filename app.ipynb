{
 "cells": [
  {
   "cell_type": "code",
   "execution_count": 9,
   "id": "2be0d4d1-028c-416f-9970-e6eb319caf7e",
   "metadata": {},
   "outputs": [],
   "source": [
    "import os\n",
    "import openai\n",
    "import sys\n",
    "sys.path.append('../..')\n",
    "\n",
    "from dotenv import load_dotenv, find_dotenv\n",
    "_ = load_dotenv(find_dotenv()) # read local .env file\n",
    "\n",
    "openai.api_key  = os.environ['OPENAI_API_KEY']"
   ]
  },
  {
   "cell_type": "code",
   "execution_count": 10,
   "id": "4a93b977-471f-43f0-8982-fe3d5345df9c",
   "metadata": {},
   "outputs": [
    {
     "data": {
      "text/plain": [
       "<File file id=file-FuFG4ioQAa1n7vkogGKOm3Qm at 0x120777d10> JSON: {\n",
       "  \"object\": \"file\",\n",
       "  \"id\": \"file-FuFG4ioQAa1n7vkogGKOm3Qm\",\n",
       "  \"purpose\": \"fine-tune\",\n",
       "  \"filename\": \"file\",\n",
       "  \"bytes\": 3300,\n",
       "  \"created_at\": 1731980504,\n",
       "  \"status\": \"processed\",\n",
       "  \"status_details\": null\n",
       "}"
      ]
     },
     "execution_count": 10,
     "metadata": {},
     "output_type": "execute_result"
    }
   ],
   "source": [
    "openai.File.create(\n",
    "  file=open(\"data_prepared.jsonl\", \"rb\"),\n",
    "  purpose=\"fine-tune\"\n",
    ")"
   ]
  },
  {
   "cell_type": "code",
   "execution_count": 11,
   "id": "34523ec3-1374-4079-83ec-25a70d0d882b",
   "metadata": {},
   "outputs": [
    {
     "data": {
      "text/plain": [
       "<FineTuningJob fine_tuning.job id=ftjob-U71vgJpMmTGd5B2Q26jb2xC2 at 0x120c60040> JSON: {\n",
       "  \"object\": \"fine_tuning.job\",\n",
       "  \"id\": \"ftjob-U71vgJpMmTGd5B2Q26jb2xC2\",\n",
       "  \"model\": \"gpt-3.5-turbo-0125\",\n",
       "  \"created_at\": 1731980529,\n",
       "  \"finished_at\": null,\n",
       "  \"fine_tuned_model\": null,\n",
       "  \"organization_id\": \"org-auJJcXVt6UImsENOHYm1W3zl\",\n",
       "  \"result_files\": [],\n",
       "  \"status\": \"validating_files\",\n",
       "  \"validation_file\": null,\n",
       "  \"training_file\": \"file-FuFG4ioQAa1n7vkogGKOm3Qm\",\n",
       "  \"hyperparameters\": {\n",
       "    \"n_epochs\": \"auto\",\n",
       "    \"batch_size\": \"auto\",\n",
       "    \"learning_rate_multiplier\": \"auto\"\n",
       "  },\n",
       "  \"trained_tokens\": null,\n",
       "  \"error\": {},\n",
       "  \"user_provided_suffix\": null,\n",
       "  \"seed\": 889930473,\n",
       "  \"estimated_finish\": null,\n",
       "  \"integrations\": []\n",
       "}"
      ]
     },
     "execution_count": 11,
     "metadata": {},
     "output_type": "execute_result"
    }
   ],
   "source": [
    "openai.FineTuningJob.create(\n",
    "  training_file=\"file-FuFG4ioQAa1n7vkogGKOm3Qm\", \n",
    "  model=\"gpt-3.5-turbo\"\n",
    ")"
   ]
  },
  {
   "cell_type": "code",
   "execution_count": 12,
   "id": "56f1477e-d2c4-44e3-af28-fa9626545373",
   "metadata": {},
   "outputs": [
    {
     "data": {
      "text/plain": [
       "<FineTuningJob fine_tuning.job id=ftjob-U71vgJpMmTGd5B2Q26jb2xC2 at 0x122cf5180> JSON: {\n",
       "  \"object\": \"fine_tuning.job\",\n",
       "  \"id\": \"ftjob-U71vgJpMmTGd5B2Q26jb2xC2\",\n",
       "  \"model\": \"gpt-3.5-turbo-0125\",\n",
       "  \"created_at\": 1731980529,\n",
       "  \"finished_at\": null,\n",
       "  \"fine_tuned_model\": null,\n",
       "  \"organization_id\": \"org-auJJcXVt6UImsENOHYm1W3zl\",\n",
       "  \"result_files\": [],\n",
       "  \"status\": \"validating_files\",\n",
       "  \"validation_file\": null,\n",
       "  \"training_file\": \"file-FuFG4ioQAa1n7vkogGKOm3Qm\",\n",
       "  \"hyperparameters\": {\n",
       "    \"n_epochs\": 6,\n",
       "    \"batch_size\": 1,\n",
       "    \"learning_rate_multiplier\": 2\n",
       "  },\n",
       "  \"trained_tokens\": null,\n",
       "  \"error\": {},\n",
       "  \"user_provided_suffix\": null,\n",
       "  \"seed\": 889930473,\n",
       "  \"estimated_finish\": null,\n",
       "  \"integrations\": []\n",
       "}"
      ]
     },
     "execution_count": 12,
     "metadata": {},
     "output_type": "execute_result"
    }
   ],
   "source": [
    "openai.FineTuningJob.retrieve(\"ftjob-U71vgJpMmTGd5B2Q26jb2xC2\")"
   ]
  },
  {
   "cell_type": "code",
   "execution_count": 13,
   "id": "9f2a66ca-c9bd-4ce9-9acb-990b6254368e",
   "metadata": {},
   "outputs": [
    {
     "name": "stdout",
     "output_type": "stream",
     "text": [
      "{\n",
      "  \"role\": \"assistant\",\n",
      "  \"content\": \"It depends on the temperature outside and inside your home. Typically, you may need to start the heater when the indoor temperature drops below your comfort level, or when the outdoor temperature is significantly lower than your desired indoor temperature. It's a good idea to monitor the weather forecast and adjust the thermostat accordingly to maintain a comfortable and energy-efficient temperature in your home.\",\n",
      "  \"refusal\": null\n",
      "}\n"
     ]
    }
   ],
   "source": [
    "completion = openai.ChatCompletion.create(\n",
    "  model=\"gpt-3.5-turbo-0125\",\n",
    "  messages=[\n",
    "    {\"role\": \"system\", \"content\": \"When do I have to start the heater?\"}\n",
    "  ]\n",
    ")\n",
    "print(completion.choices[0].message)"
   ]
  },
  {
   "cell_type": "code",
   "execution_count": 14,
   "id": "6f1aa2fe-433a-4f1a-bb14-c3e1679cf139",
   "metadata": {},
   "outputs": [
    {
     "name": "stdout",
     "output_type": "stream",
     "text": [
      "{\n",
      "  \"role\": \"assistant\",\n",
      "  \"content\": \"The garage remote control is located on the key hook near the front door.\",\n",
      "  \"refusal\": null\n",
      "}\n"
     ]
    }
   ],
   "source": [
    "completion = openai.ChatCompletion.create(\n",
    "  model=\"gpt-3.5-turbo-0125\",\n",
    "  messages=[\n",
    "    {\"role\": \"system\", \"content\": \"Where is the garage remote control?\"}\n",
    "  ]\n",
    ")\n",
    "print(completion.choices[0].message)"
   ]
  },
  {
   "cell_type": "code",
   "execution_count": null,
   "id": "711a2ee0-ea99-441e-b820-6e22d3573ac1",
   "metadata": {},
   "outputs": [],
   "source": [
    "\n"
   ]
  }
 ],
 "metadata": {
  "kernelspec": {
   "display_name": "Python 3 (ipykernel)",
   "language": "python",
   "name": "python3"
  },
  "language_info": {
   "codemirror_mode": {
    "name": "ipython",
    "version": 3
   },
   "file_extension": ".py",
   "mimetype": "text/x-python",
   "name": "python",
   "nbconvert_exporter": "python",
   "pygments_lexer": "ipython3",
   "version": "3.9.9"
  }
 },
 "nbformat": 4,
 "nbformat_minor": 5
}
